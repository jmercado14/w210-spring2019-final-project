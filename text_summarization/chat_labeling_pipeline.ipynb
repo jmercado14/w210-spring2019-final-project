{
 "cells": [
  {
   "cell_type": "markdown",
   "metadata": {},
   "source": [
    "## Chat labeling pipeline\n"
   ]
  },
  {
   "cell_type": "code",
   "execution_count": 80,
   "metadata": {},
   "outputs": [],
   "source": [
    "import pandas as pd\n",
    "import re\n",
    "import json\n",
    "import csv\n",
    "\n",
    "import gensim\n",
    "from gensim import corpora\n",
    "from gensim.summarization.summarizer import summarize"
   ]
  },
  {
   "cell_type": "markdown",
   "metadata": {},
   "source": [
    "### Ingest raw chat data"
   ]
  },
  {
   "cell_type": "code",
   "execution_count": 57,
   "metadata": {},
   "outputs": [],
   "source": [
    "# chats = pd.read_csv('data_inputs/test_export.csv')\n",
    "# chats_df = pd.read_json('data_inputs/export1.json', lines=True)\n",
    "\n",
    "chats = []\n",
    "for line in open('data_inputs/chat_export1.json', 'r'):\n",
    "    chats.append(json.loads(line))"
   ]
  },
  {
   "cell_type": "code",
   "execution_count": 58,
   "metadata": {},
   "outputs": [
    {
     "data": {
      "text/plain": [
       "[{'_id': {'$oid': '5c7acb202f46c1066e31fd5b'},\n",
       "  'student_id': 'UFR6C3N5B',\n",
       "  'time': 'Sat Mar 02 2019 18:27:10 GMT+0000 (Coordinated Universal Time)',\n",
       "  'topic': 'live session',\n",
       "  'course': 'a',\n",
       "  'prof_name': 'a',\n",
       "  'instr_wk': 'a',\n",
       "  'emoji_sentiment': 'pos1',\n",
       "  'topic_response': 'a'},\n",
       " {'_id': {'$oid': '5c7ae81e2f46c1066e31fd5c'},\n",
       "  'student_id': 'UFR6C3N5B',\n",
       "  'time': 'Sat Mar 02 2019 18:27:10 GMT+0000 (Coordinated Universal Time)',\n",
       "  'topic': 'office hours',\n",
       "  'course': '203',\n",
       "  'prof_name': 'john do',\n",
       "  'instr_wk': '2',\n",
       "  'emoji_sentiment': 'neg',\n",
       "  'topic_response': 'not much'}]"
      ]
     },
     "execution_count": 58,
     "metadata": {},
     "output_type": "execute_result"
    }
   ],
   "source": [
    "chats[1:3]"
   ]
  },
  {
   "cell_type": "markdown",
   "metadata": {},
   "source": [
    "### Clean data\n"
   ]
  },
  {
   "cell_type": "code",
   "execution_count": 59,
   "metadata": {},
   "outputs": [],
   "source": [
    "def sentiment_transform(x):\n",
    "    return {\n",
    "        'neg1':1,\n",
    "        'neg' :2,\n",
    "        'neu' :3,\n",
    "        'pos' :4,\n",
    "        'pos1':5\n",
    "    }[x]\n",
    "\n"
   ]
  },
  {
   "cell_type": "code",
   "execution_count": 60,
   "metadata": {},
   "outputs": [
    {
     "data": {
      "text/plain": [
       "{'_id': {'$oid': '5c7acb202f46c1066e31fd5b'},\n",
       " 'student_id': 'UFR6C3N5B',\n",
       " 'time': 'Sat Mar 02 2019 18:27:10 GMT+0000 (Coordinated Universal Time)',\n",
       " 'topic': 'live session',\n",
       " 'course': 'a',\n",
       " 'prof_name': 'a',\n",
       " 'instr_wk': 'a',\n",
       " 'emoji_sentiment': 'pos1',\n",
       " 'topic_response': 'a'}"
      ]
     },
     "execution_count": 60,
     "metadata": {},
     "output_type": "execute_result"
    }
   ],
   "source": [
    "chats[1]"
   ]
  },
  {
   "cell_type": "code",
   "execution_count": 61,
   "metadata": {},
   "outputs": [],
   "source": [
    "for chat in chats:\n",
    "    chat['emoji_sentiment_int']= sentiment_transform(chat['emoji_sentiment'])"
   ]
  },
  {
   "cell_type": "code",
   "execution_count": 62,
   "metadata": {},
   "outputs": [
    {
     "data": {
      "text/plain": [
       "{'_id': {'$oid': '5c7acb202f46c1066e31fd5b'},\n",
       " 'student_id': 'UFR6C3N5B',\n",
       " 'time': 'Sat Mar 02 2019 18:27:10 GMT+0000 (Coordinated Universal Time)',\n",
       " 'topic': 'live session',\n",
       " 'course': 'a',\n",
       " 'prof_name': 'a',\n",
       " 'instr_wk': 'a',\n",
       " 'emoji_sentiment': 'pos1',\n",
       " 'topic_response': 'a',\n",
       " 'emoji_sentiment_int': 5}"
      ]
     },
     "execution_count": 62,
     "metadata": {},
     "output_type": "execute_result"
    }
   ],
   "source": [
    "chats[1]"
   ]
  },
  {
   "cell_type": "markdown",
   "metadata": {},
   "source": [
    "### Apply topic models to chat data\n"
   ]
  },
  {
   "cell_type": "code",
   "execution_count": 63,
   "metadata": {},
   "outputs": [],
   "source": [
    "def pred_topic(text):\n",
    "    return text\n",
    "\n",
    "def pred_sub_topic(text):\n",
    "    return text\n"
   ]
  },
  {
   "cell_type": "code",
   "execution_count": 64,
   "metadata": {},
   "outputs": [],
   "source": [
    "for chat in chats:\n",
    "    chat['pred_topic'] = pred_topic(chat['topic_response'])\n",
    "    chat['pred_sub_topic'] = pred_sub_topic(chat['topic_response'])"
   ]
  },
  {
   "cell_type": "markdown",
   "metadata": {},
   "source": [
    "### Export appended data"
   ]
  },
  {
   "cell_type": "code",
   "execution_count": 67,
   "metadata": {},
   "outputs": [],
   "source": [
    "with open('data_outputs/updated_chatdata.csv', 'w') as f:  # Just use 'w' mode in 3.x\n",
    "    w = csv.DictWriter(f, chats[1].keys())\n",
    "    w.writeheader()\n",
    "    for chat in chats:\n",
    "        w = csv.DictWriter(f, chat.keys())\n",
    "        w.writerow(chat)"
   ]
  },
  {
   "cell_type": "markdown",
   "metadata": {},
   "source": [
    "### Generate topic summaries\n"
   ]
  },
  {
   "cell_type": "code",
   "execution_count": null,
   "metadata": {},
   "outputs": [],
   "source": [
    "topics = set(chats[topic])\n",
    "\n",
    "for topic in topics:\n",
    "    print (\"Processing\", topic)\n",
    "    topic_subset = training_feedback[training_feedback.topic==topic]\n",
    "    topic_text = topic_subset.feedback_text\n",
    "    \n",
    "    s = '. '\n",
    "    text = s.join(topic_text)\n",
    "    text = re.sub(\"\\.+\", \".\", text)\n",
    "    text = re.sub(\"\\n\", \"\", text)\n",
    "    # print(text)\n",
    "    print(summarize(text))\n",
    "    print('\\n')"
   ]
  },
  {
   "cell_type": "code",
   "execution_count": 72,
   "metadata": {},
   "outputs": [
    {
     "data": {
      "text/plain": [
       "{'assignment', 'instructor', 'live session', 'miscellaneous', 'office hours'}"
      ]
     },
     "execution_count": 72,
     "metadata": {},
     "output_type": "execute_result"
    }
   ],
   "source": [
    "topics = set()\n",
    "\n",
    "for chat in chats:\n",
    "    topics.add(chat['topic'])\n",
    "    \n",
    "topics"
   ]
  },
  {
   "cell_type": "code",
   "execution_count": 81,
   "metadata": {},
   "outputs": [
    {
     "name": "stdout",
     "output_type": "stream",
     "text": [
      "Processing miscellaneous\n",
      "['I think the bridge course is so fun! wanted to compliment paul, the course creators, and admins for doing such a great job in designing such a helpful course', 'nothing']\n",
      "\n",
      "\n",
      "\n",
      "Processing live session\n",
      "['a', 'a']\n",
      "\n",
      "\n",
      "\n",
      "Processing office hours\n",
      "['not much']\n",
      "\n",
      "\n",
      "\n",
      "Processing instructor\n",
      "['a']\n",
      "\n",
      "\n",
      "\n",
      "Processing assignment\n",
      "['a']\n",
      "\n",
      "\n",
      "\n"
     ]
    }
   ],
   "source": [
    "for topic in topics:\n",
    "    print (\"Processing\", topic)\n",
    "    topic_subset = [d for d in chats if d['topic'] == topic]\n",
    "    topic_text = []\n",
    "    for chat in topic_subset:\n",
    "        topic_text.append(chat['topic_response'])\n",
    "    print(topic_text)\n",
    "    \n",
    "    \n",
    "    s = '. '\n",
    "    text = s.join(topic_text)\n",
    "    text = re.sub(\"\\.+\", \".\", text)\n",
    "    text = re.sub(\"\\n\", \"\", text)\n",
    "    # print(text)\n",
    "    print(summarize(text))\n",
    "    print('\\n')\n"
   ]
  },
  {
   "cell_type": "code",
   "execution_count": null,
   "metadata": {},
   "outputs": [],
   "source": []
  }
 ],
 "metadata": {
  "kernelspec": {
   "display_name": "Python 3",
   "language": "python",
   "name": "python3"
  },
  "language_info": {
   "codemirror_mode": {
    "name": "ipython",
    "version": 3
   },
   "file_extension": ".py",
   "mimetype": "text/x-python",
   "name": "python",
   "nbconvert_exporter": "python",
   "pygments_lexer": "ipython3",
   "version": "3.7.1"
  }
 },
 "nbformat": 4,
 "nbformat_minor": 2
}
