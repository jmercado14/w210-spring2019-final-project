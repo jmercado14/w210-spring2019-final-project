{
 "cells": [
  {
   "cell_type": "code",
   "execution_count": 6,
   "metadata": {},
   "outputs": [],
   "source": [
    "# python packages\n",
    "import pandas as pd # for data handling\n",
    "from pandas import ExcelFile # for file reading\n",
    "import csv\n",
    "import numpy as np # for data manipulation and plotting\n",
    "\n",
    "import nltk\n",
    "from nltk.corpus import stopwords\n",
    "sw = set(stopwords.words('english'))"
   ]
  },
  {
   "cell_type": "code",
   "execution_count": 7,
   "metadata": {},
   "outputs": [
    {
     "name": "stdout",
     "output_type": "stream",
     "text": [
      "Column headings:\n",
      "Index(['source', 'course', 'date', 'emojiRating', 'feedback_text', 'topic',\n",
      "       'sub_topic'],\n",
      "      dtype='object')\n"
     ]
    },
    {
     "data": {
      "text/html": [
       "<div>\n",
       "<style>\n",
       "    .dataframe thead tr:only-child th {\n",
       "        text-align: right;\n",
       "    }\n",
       "\n",
       "    .dataframe thead th {\n",
       "        text-align: left;\n",
       "    }\n",
       "\n",
       "    .dataframe tbody tr th {\n",
       "        vertical-align: top;\n",
       "    }\n",
       "</style>\n",
       "<table border=\"1\" class=\"dataframe\">\n",
       "  <thead>\n",
       "    <tr style=\"text-align: right;\">\n",
       "      <th></th>\n",
       "      <th>source</th>\n",
       "      <th>course</th>\n",
       "      <th>date</th>\n",
       "      <th>emojiRating</th>\n",
       "      <th>feedback_text</th>\n",
       "      <th>topic</th>\n",
       "      <th>sub_topic</th>\n",
       "    </tr>\n",
       "  </thead>\n",
       "  <tbody>\n",
       "    <tr>\n",
       "      <th>0</th>\n",
       "      <td>team_generated</td>\n",
       "      <td>201</td>\n",
       "      <td>2018-10-19</td>\n",
       "      <td>2</td>\n",
       "      <td>i have no idea how i’m doing so far. we’ve tur...</td>\n",
       "      <td>feedback</td>\n",
       "      <td>slow turnaround</td>\n",
       "    </tr>\n",
       "    <tr>\n",
       "      <th>1</th>\n",
       "      <td>team_generated</td>\n",
       "      <td>200</td>\n",
       "      <td>2018-03-08</td>\n",
       "      <td>5</td>\n",
       "      <td>i’d ask for more time from the TAs, or try to ...</td>\n",
       "      <td>feedback</td>\n",
       "      <td>slow turnaround</td>\n",
       "    </tr>\n",
       "    <tr>\n",
       "      <th>2</th>\n",
       "      <td>team_generated</td>\n",
       "      <td>241</td>\n",
       "      <td>2018-01-16</td>\n",
       "      <td>4</td>\n",
       "      <td>the way that they encourage lots of class disc...</td>\n",
       "      <td>live session</td>\n",
       "      <td>good discussion</td>\n",
       "    </tr>\n",
       "    <tr>\n",
       "      <th>3</th>\n",
       "      <td>team_generated</td>\n",
       "      <td>203</td>\n",
       "      <td>2019-01-23</td>\n",
       "      <td>5</td>\n",
       "      <td>async is going pretty well, but not super appl...</td>\n",
       "      <td>async</td>\n",
       "      <td>disconnected from live session</td>\n",
       "    </tr>\n",
       "    <tr>\n",
       "      <th>4</th>\n",
       "      <td>team_generated</td>\n",
       "      <td>266</td>\n",
       "      <td>2018-07-05</td>\n",
       "      <td>3</td>\n",
       "      <td>abe lincoln is the best professor i’ve ever had</td>\n",
       "      <td>instructor</td>\n",
       "      <td>NaN</td>\n",
       "    </tr>\n",
       "  </tbody>\n",
       "</table>\n",
       "</div>"
      ],
      "text/plain": [
       "           source course       date  emojiRating  \\\n",
       "0  team_generated    201 2018-10-19            2   \n",
       "1  team_generated    200 2018-03-08            5   \n",
       "2  team_generated    241 2018-01-16            4   \n",
       "3  team_generated    203 2019-01-23            5   \n",
       "4  team_generated    266 2018-07-05            3   \n",
       "\n",
       "                                       feedback_text         topic  \\\n",
       "0  i have no idea how i’m doing so far. we’ve tur...      feedback   \n",
       "1  i’d ask for more time from the TAs, or try to ...      feedback   \n",
       "2  the way that they encourage lots of class disc...  live session   \n",
       "3  async is going pretty well, but not super appl...         async   \n",
       "4    abe lincoln is the best professor i’ve ever had    instructor   \n",
       "\n",
       "                        sub_topic  \n",
       "0                 slow turnaround  \n",
       "1                 slow turnaround  \n",
       "2                 good discussion  \n",
       "3  disconnected from live session  \n",
       "4                             NaN  "
      ]
     },
     "execution_count": 7,
     "metadata": {},
     "output_type": "execute_result"
    }
   ],
   "source": [
    "df = pd.read_excel('./feedback_data_for_training.xlsx')\n",
    "print(\"Column headings:\")\n",
    "print(df.columns)\n",
    "\n",
    "# view a bit of the data\n",
    "df.head()"
   ]
  },
  {
   "cell_type": "code",
   "execution_count": 8,
   "metadata": {
    "collapsed": true
   },
   "outputs": [],
   "source": [
    "word_array = []\n",
    "\n",
    "for comment_i in range(0, len(df)):\n",
    "    s = df.iloc[comment_i][\"feedback_text\"].lower().replace(\".\", \"\").replace(\",\", \"\").replace(\"!\", \"\").replace(\"-\", \"\")\n",
    "    split_s = s.split(\" \")\n",
    "    \n",
    "    course = df.iloc[comment_i][\"course\"]\n",
    "    date = df.iloc[comment_i][\"date\"]\n",
    "    topic = df.iloc[comment_i][\"topic\"]\n",
    "    subtopic = df.iloc[comment_i][\"sub_topic\"]\n",
    "    \n",
    "    for word_i in range(0, len(split_s)):\n",
    "        if split_s[word_i] not in sw:\n",
    "            word_array.append([split_s[word_i], course, date, topic, subtopic])"
   ]
  },
  {
   "cell_type": "code",
   "execution_count": 9,
   "metadata": {
    "collapsed": true
   },
   "outputs": [],
   "source": [
    "fl = open('word_file.csv', 'w')\n",
    "\n",
    "writer = csv.writer(fl)\n",
    "\n",
    "writer.writerow(['word', 'course', 'date', 'topic', 'subtopic'])\n",
    "for values in word_array:\n",
    "    writer.writerow(values)\n",
    "\n",
    "fl.close()  "
   ]
  },
  {
   "cell_type": "code",
   "execution_count": null,
   "metadata": {
    "collapsed": true
   },
   "outputs": [],
   "source": []
  }
 ],
 "metadata": {
  "kernelspec": {
   "display_name": "Python 3",
   "language": "python",
   "name": "python3"
  },
  "language_info": {
   "codemirror_mode": {
    "name": "ipython",
    "version": 3
   },
   "file_extension": ".py",
   "mimetype": "text/x-python",
   "name": "python",
   "nbconvert_exporter": "python",
   "pygments_lexer": "ipython3",
   "version": "3.6.1"
  }
 },
 "nbformat": 4,
 "nbformat_minor": 2
}
